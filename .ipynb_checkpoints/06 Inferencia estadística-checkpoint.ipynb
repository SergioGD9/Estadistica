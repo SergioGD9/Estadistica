{
 "cells": [
  {
   "cell_type": "code",
   "execution_count": 1,
   "id": "9713f3cc",
   "metadata": {},
   "outputs": [],
   "source": [
    "import numpy as np\n",
    "from scipy.stats import t"
   ]
  },
  {
   "cell_type": "markdown",
   "id": "a8b597f9",
   "metadata": {},
   "source": [
    "#### Datos de ejemplo"
   ]
  },
  {
   "cell_type": "code",
   "execution_count": 2,
   "id": "eedf8d40",
   "metadata": {},
   "outputs": [],
   "source": [
    "edades = [22,25,20,35,12,36,69,21,30,42,35,41,21,25,26,27,28,29,30,31,25,24,23,21]\n"
   ]
  },
  {
   "cell_type": "markdown",
   "id": "c8e3afdf",
   "metadata": {},
   "source": [
    "#### Tamaño de la muestra"
   ]
  },
  {
   "cell_type": "code",
   "execution_count": 3,
   "id": "b706d370",
   "metadata": {},
   "outputs": [
    {
     "name": "stdout",
     "output_type": "stream",
     "text": [
      "24\n"
     ]
    }
   ],
   "source": [
    "n = len(edades)\n",
    "print(n)"
   ]
  },
  {
   "cell_type": "markdown",
   "id": "2bb14469",
   "metadata": {},
   "source": [
    "#### Media y desviación estandar"
   ]
  },
  {
   "cell_type": "code",
   "execution_count": 4,
   "id": "404e46ed",
   "metadata": {},
   "outputs": [
    {
     "name": "stdout",
     "output_type": "stream",
     "text": [
      "29.083333333333332\n",
      "10.981869115745384\n"
     ]
    }
   ],
   "source": [
    "media = np.mean(edades)\n",
    "desviacion_estandar = np.std(edades,ddof=1)\n",
    "print(media)\n",
    "print(desviacion_estandar)"
   ]
  },
  {
   "cell_type": "markdown",
   "id": "917cfb81",
   "metadata": {},
   "source": [
    "#### Intervalo de confianza del 95% para la media"
   ]
  },
  {
   "cell_type": "code",
   "execution_count": 7,
   "id": "712f9360",
   "metadata": {},
   "outputs": [],
   "source": [
    "valor_referencia = 22\n",
    "t_estadistico = (media - valor_referencia) / (desviacion_estandar / np.sqrt(len(edades)))\n",
    "grados_libertad = len(edades)-1\n"
   ]
  },
  {
   "cell_type": "code",
   "execution_count": 8,
   "id": "7edeb107",
   "metadata": {},
   "outputs": [
    {
     "name": "stdout",
     "output_type": "stream",
     "text": [
      "el t critico es 2.0686576104190406\n",
      "el t estadistico es 3.159854149024161\n",
      "Rechazamos la hipotesis nula\n"
     ]
    }
   ],
   "source": [
    "nivel_significancia = 0.05\n",
    "t_critico = t.ppf(1-nivel_significancia/2, df=grados_libertad)\n",
    "print(f'el t critico es {t_critico}')\n",
    "print(f'el t estadistico es {t_estadistico}')\n",
    "if abs(t_estadistico)>t_critico:\n",
    "    print('Rechazamos la hipotesis nula')\n",
    "else:\n",
    "    print('No hay suficiente evidencia para rechazar la hipotesis nula')"
   ]
  },
  {
   "cell_type": "code",
   "execution_count": null,
   "id": "eee60238",
   "metadata": {},
   "outputs": [],
   "source": []
  }
 ],
 "metadata": {
  "kernelspec": {
   "display_name": "Python 3 (ipykernel)",
   "language": "python",
   "name": "python3"
  },
  "language_info": {
   "codemirror_mode": {
    "name": "ipython",
    "version": 3
   },
   "file_extension": ".py",
   "mimetype": "text/x-python",
   "name": "python",
   "nbconvert_exporter": "python",
   "pygments_lexer": "ipython3",
   "version": "3.9.13"
  }
 },
 "nbformat": 4,
 "nbformat_minor": 5
}
