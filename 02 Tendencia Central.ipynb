{
 "cells": [
  {
   "cell_type": "markdown",
   "id": "10a8e1d9",
   "metadata": {},
   "source": [
    "# 02 Tendencia Central"
   ]
  },
  {
   "cell_type": "code",
   "execution_count": 5,
   "id": "ec3fb0b8",
   "metadata": {},
   "outputs": [],
   "source": [
    "import pandas as pd \n",
    "import matplotlib.pyplot as plt\n",
    "import numpy as np\n",
    "import random\n",
    "from scipy import stats"
   ]
  },
  {
   "cell_type": "code",
   "execution_count": 4,
   "id": "6da2bcb8",
   "metadata": {},
   "outputs": [
    {
     "name": "stdout",
     "output_type": "stream",
     "text": [
      "[183, 159, 169, 169, 161, 160, 166, 154, 183, 164, 182, 182, 165, 181, 152]\n"
     ]
    }
   ],
   "source": [
    "# Crear una lista vacía para almacenar los números aleatorios\n",
    "alturas = []\n",
    "\n",
    "# Definir el rango de números aleatorios (150 a 190)\n",
    "rango_inferior = 150\n",
    "rango_superior = 190\n",
    "\n",
    "# Generar 15 números aleatorios y agregarlos a la lista\n",
    "for _ in range(15):\n",
    "    numero_aleatorio = random.randint(rango_inferior, rango_superior)\n",
    "    alturas.append(numero_aleatorio)\n",
    "\n",
    "# Imprimir la lista resultante\n",
    "print(alturas)\n"
   ]
  },
  {
   "cell_type": "markdown",
   "id": "06ae5095",
   "metadata": {},
   "source": [
    "### Calculamos la media"
   ]
  },
  {
   "cell_type": "code",
   "execution_count": 7,
   "id": "b6831668",
   "metadata": {},
   "outputs": [
    {
     "name": "stdout",
     "output_type": "stream",
     "text": [
      "Media de alturas: 168.66666666666666\n"
     ]
    }
   ],
   "source": [
    "media = np.mean(alturas)\n",
    "print(f'Media de alturas: {media}')"
   ]
  },
  {
   "cell_type": "code",
   "execution_count": 8,
   "id": "f0a5d31b",
   "metadata": {},
   "outputs": [
    {
     "name": "stdout",
     "output_type": "stream",
     "text": [
      "La suma de lista es igual a 2530\n",
      "La lista tiene 15 valores\n",
      "La media de alturas es 168.66666666666666\n"
     ]
    }
   ],
   "source": [
    "# Otra forma de calcular la media sin numpy\n",
    "suma = 0 \n",
    "for numero in alturas:\n",
    "    suma = suma + numero \n",
    "print(f'La suma de lista es igual a {suma}')\n",
    "print(f'La lista tiene {len(alturas)} valores')\n",
    "media = suma / len(alturas)\n",
    "print(f'La media de alturas es {media}')"
   ]
  },
  {
   "cell_type": "markdown",
   "id": "9048081c",
   "metadata": {},
   "source": [
    "### Calculamos la mediana"
   ]
  },
  {
   "cell_type": "code",
   "execution_count": 10,
   "id": "fd9b8cf6",
   "metadata": {},
   "outputs": [
    {
     "name": "stdout",
     "output_type": "stream",
     "text": [
      "El valor central o mediana es 166.0\n"
     ]
    }
   ],
   "source": [
    "mediana = np.median(alturas)\n",
    "print(f'El valor central o mediana es {mediana}')"
   ]
  },
  {
   "cell_type": "markdown",
   "id": "d4c1c06e",
   "metadata": {},
   "source": [
    "### Calculamos la moda"
   ]
  },
  {
   "cell_type": "code",
   "execution_count": 11,
   "id": "663e1236",
   "metadata": {},
   "outputs": [
    {
     "name": "stdout",
     "output_type": "stream",
     "text": [
      "El valor más frecuente o moda es 169\n"
     ]
    },
    {
     "name": "stderr",
     "output_type": "stream",
     "text": [
      "C:\\Users\\sergi\\AppData\\Local\\Temp\\ipykernel_12888\\4221046221.py:1: FutureWarning: Unlike other reduction functions (e.g. `skew`, `kurtosis`), the default behavior of `mode` typically preserves the axis it acts along. In SciPy 1.11.0, this behavior will change: the default value of `keepdims` will become False, the `axis` over which the statistic is taken will be eliminated, and the value None will no longer be accepted. Set `keepdims` to True or False to avoid this warning.\n",
      "  moda = stats.mode(alturas)\n"
     ]
    }
   ],
   "source": [
    "moda = stats.mode(alturas)\n",
    "print(f'El valor más frecuente o moda es {moda.mode[0]}') "
   ]
  },
  {
   "cell_type": "code",
   "execution_count": 12,
   "id": "6bba39a6",
   "metadata": {},
   "outputs": [
    {
     "name": "stdout",
     "output_type": "stream",
     "text": [
      "El valor más frecuente o moda es ModeResult(mode=array([169]), count=array([2]))\n"
     ]
    }
   ],
   "source": [
    "#Si queremos ver cuantas veces se repite ese valor lo haremos con el siguinete codigo\n",
    "print(f'El valor más frecuente o moda es {moda}') "
   ]
  },
  {
   "cell_type": "code",
   "execution_count": null,
   "id": "8125cc05",
   "metadata": {},
   "outputs": [],
   "source": []
  }
 ],
 "metadata": {
  "kernelspec": {
   "display_name": "Python 3 (ipykernel)",
   "language": "python",
   "name": "python3"
  },
  "language_info": {
   "codemirror_mode": {
    "name": "ipython",
    "version": 3
   },
   "file_extension": ".py",
   "mimetype": "text/x-python",
   "name": "python",
   "nbconvert_exporter": "python",
   "pygments_lexer": "ipython3",
   "version": "3.9.13"
  }
 },
 "nbformat": 4,
 "nbformat_minor": 5
}
